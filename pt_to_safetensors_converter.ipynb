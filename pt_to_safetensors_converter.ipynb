{
  "cells": [
    {
      "cell_type": "markdown",
      "metadata": {},
      "source": [
        "<B>This assumes it's being run from an active jupyter environment on the base image (docker run jupyter/base-notebook:latest\")</B>\n",
        "<p>Basic outline of differences: \n",
        "<p>1 - we move install to #1, ipywidgets won't come wiht the base image\n",
        "<p>2 - imports\n",
        "<p>3 - set your file path. environment comes with work/ folder by default\n",
        "<p>4 - Define your converter functions (identical to main)\n",
        "<p>5 - Do the thing (identical to main)"
      ]
    },
    {
      "cell_type": "code",
      "execution_count": null,
      "metadata": {},
      "outputs": [],
      "source": [
        "#default image doesn't have ipywidgets\n",
        "!pip install ipywidgets\n",
        "!pip install torch\n",
        "!pip install safetensors\n",
        "!pip install pytorch-lightning"
      ]
    },
    {
      "cell_type": "code",
      "execution_count": null,
      "metadata": {},
      "outputs": [],
      "source": [
        "#imports\n",
        "from IPython.display import clear_output\n",
        "from IPython.display import display\n",
        "import ipywidgets as widgets\n",
        "import os"
      ]
    },
    {
      "cell_type": "code",
      "execution_count": null,
      "metadata": {},
      "outputs": [],
      "source": [
        "#upload PT files to your jupyter notebook instance, by default comes with \"work\" folder\n",
        "#todo: add creation script, which is basically just \"docker run jupyter/base-notebook:latest\" and then grab the login token and URL\n",
        "file_path = \"work/\" #@param {type:\"string\"}\n",
        "verbose=True"
      ]
    },
    {
      "cell_type": "code",
      "execution_count": null,
      "metadata": {
        "cellView": "form",
        "id": "UwH1lXmGw9XP"
      },
      "outputs": [],
      "source": [
        "#Define Converter Functions\n",
        "import os\n",
        "from typing import Any, Dict\n",
        "\n",
        "import torch\n",
        "from safetensors.torch import save_file\n",
        "\n",
        "device = torch.device('cuda' if torch.cuda.is_available() else 'cpu')\n",
        "\n",
        "def process_pt_files(path: str, model_type: str, verbose=True) -> None:\n",
        "    if os.path.isdir(path):\n",
        "        # Path is a directory, process all .pt files in the directory\n",
        "        for file_name in os.listdir(path):\n",
        "            if file_name.endswith('.pt'):\n",
        "                process_file(os.path.join(path, file_name), model_type, verbose)\n",
        "    elif os.path.isfile(path) and path.endswith('.pt'):\n",
        "        # Path is a .pt file, process this file\n",
        "        process_file(path, model_type, verbose)\n",
        "    else:\n",
        "        print(f\"{path} is not a valid directory or .pt file.\")\n",
        "\n",
        "def process_file(file_path: str, model_type: str, verbose: bool) -> None:\n",
        "    # Load the PyTorch model\n",
        "    model = torch.load(file_path, map_location=device)\n",
        "\n",
        "    if verbose:\n",
        "        print(file_path)\n",
        "\n",
        "    if model_type == 'embedding':\n",
        "        s_model = process_embedding_file(model, verbose)\n",
        "    elif model_type == 'vae':\n",
        "        s_model = process_vae_file(model, verbose)\n",
        "    else:\n",
        "        raise Exception(f\"model_type `{model_type}` is not supported!\")\n",
        "\n",
        "    # Save the model with the new extension\n",
        "    if file_path.endswith('.pt'):\n",
        "        new_file_path = file_path[:-3] + '.safetensors'\n",
        "    else:\n",
        "        new_file_path = file_path + '.safetensors'\n",
        "    save_file(s_model, new_file_path)\n",
        "\n",
        "def process_embedding_file(model: Dict[str, Any], verbose: bool) -> Dict[str, torch.Tensor]:\n",
        "    # Extract the embedding tensors\n",
        "    model_tensors = model.get('string_to_param').get('*')\n",
        "    s_model = {\n",
        "          'emb_params': model_tensors\n",
        "            }\n",
        "\n",
        "    if verbose:\n",
        "        # Print the requested training information, if it exists\n",
        "        if ('sd_checkpoint_name' in model) and (model['sd_checkpoint_name'] is not None):\n",
        "            print(f\"Trained on {model['sd_checkpoint_name']}.\")\n",
        "        else:\n",
        "            print(\"Checkpoint name not found in the model.\")\n",
        "\n",
        "        if ('step' in model) and (model['step'] is not None):\n",
        "            print(f\"Trained for {model['step']} steps.\")\n",
        "        else:\n",
        "            print(\"Step not found in the model.\")\n",
        "        # Display the tensor's shape\n",
        "        print(f\"Dimensions of embedding tensor: {model_tensors.shape}\")\n",
        "        print()\n",
        "\n",
        "    return s_model\n",
        "\n",
        "def process_vae_file(model: Dict[str, Any], verbose: bool) -> Dict[str, torch.Tensor]:\n",
        "    # Extract the state dictionary\n",
        "    s_model = model[\"state_dict\"]\n",
        "    if verbose:\n",
        "        # Print the requested training information, if it exists\n",
        "        step = model.get('step', model.get('global_step'))\n",
        "        if step is not None:\n",
        "            print(f\"Trained for {step} steps.\")\n",
        "        else:\n",
        "            print(\"Step not found in the model.\")\n",
        "        print()\n",
        "    return s_model"
      ]
    },
    {
      "cell_type": "code",
      "execution_count": null,
      "metadata": {
        "cellView": "form",
        "id": "4LEWGfjiUeG1"
      },
      "outputs": [],
      "source": [
        "#@title Convert the Embedding(s)\n",
        "process_pt_files(file_path, 'embedding', verbose=verbose)"
      ]
    },
    {
      "cell_type": "code",
      "execution_count": null,
      "metadata": {
        "cellView": "form",
        "id": "Jil7A1ckyiHA"
      },
      "outputs": [],
      "source": [
        "#@title Convert the VAE(s)\n",
        "process_pt_files(file_path, 'vae', verbose=verbose)"
      ]
    }
  ],
  "metadata": {
    "colab": {
      "include_colab_link": true,
      "provenance": []
    },
    "kernelspec": {
      "display_name": "Python 3",
      "name": "python3"
    },
    "language_info": {
      "name": "python"
    },
    "widgets": {
      "application/vnd.jupyter.widget-state+json": {
        "49441085d85a4f219a6ccbf2a197f527": {
          "model_module": "@jupyter-widgets/base",
          "model_module_version": "1.2.0",
          "model_name": "LayoutModel",
          "state": {
            "_model_module": "@jupyter-widgets/base",
            "_model_module_version": "1.2.0",
            "_model_name": "LayoutModel",
            "_view_count": null,
            "_view_module": "@jupyter-widgets/base",
            "_view_module_version": "1.2.0",
            "_view_name": "LayoutView",
            "align_content": null,
            "align_items": null,
            "align_self": null,
            "border": null,
            "bottom": null,
            "display": null,
            "flex": null,
            "flex_flow": null,
            "grid_area": null,
            "grid_auto_columns": null,
            "grid_auto_flow": null,
            "grid_auto_rows": null,
            "grid_column": null,
            "grid_gap": null,
            "grid_row": null,
            "grid_template_areas": null,
            "grid_template_columns": null,
            "grid_template_rows": null,
            "height": null,
            "justify_content": null,
            "justify_items": null,
            "left": null,
            "margin": null,
            "max_height": null,
            "max_width": null,
            "min_height": null,
            "min_width": "50px",
            "object_fit": null,
            "object_position": null,
            "order": null,
            "overflow": null,
            "overflow_x": null,
            "overflow_y": null,
            "padding": null,
            "right": null,
            "top": null,
            "visibility": null,
            "width": null
          }
        },
        "a44dd6024769456a8262a17b0ce6a2ed": {
          "model_module": "@jupyter-widgets/controls",
          "model_module_version": "1.5.0",
          "model_name": "ButtonModel",
          "state": {
            "_dom_classes": [],
            "_model_module": "@jupyter-widgets/controls",
            "_model_module_version": "1.5.0",
            "_model_name": "ButtonModel",
            "_view_count": null,
            "_view_module": "@jupyter-widgets/controls",
            "_view_module_version": "1.5.0",
            "_view_name": "ButtonView",
            "button_style": "success",
            "description": "✔ Done",
            "disabled": true,
            "icon": "",
            "layout": "IPY_MODEL_49441085d85a4f219a6ccbf2a197f527",
            "style": "IPY_MODEL_f084b7dfcae445a58d36a9c21971793c",
            "tooltip": ""
          }
        },
        "f084b7dfcae445a58d36a9c21971793c": {
          "model_module": "@jupyter-widgets/controls",
          "model_module_version": "1.5.0",
          "model_name": "ButtonStyleModel",
          "state": {
            "_model_module": "@jupyter-widgets/controls",
            "_model_module_version": "1.5.0",
            "_model_name": "ButtonStyleModel",
            "_view_count": null,
            "_view_module": "@jupyter-widgets/base",
            "_view_module_version": "1.2.0",
            "_view_name": "StyleView",
            "button_color": null,
            "font_weight": ""
          }
        }
      }
    }
  },
  "nbformat": 4,
  "nbformat_minor": 0
}
